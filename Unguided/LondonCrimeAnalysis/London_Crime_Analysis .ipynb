{
 "cells": [
  {
   "cell_type": "markdown",
   "metadata": {},
   "source": [
    "# London Crime Data\n",
    "\n",
    "### Table of Contents\n",
    "\n",
    "* [1 - Importing the data](#1)\n",
    "    * [1.1 - Importing the data](#1.1)\n",
    "    * [1.2 - Exploring the dataset](#1.2)\n",
    "* [2 - Preprocessing/Data cleaning](#2)\n",
    "    * [2.1 - Feature selection](#2.1)\n",
    "    * [2.2 - Handling missing/null values](#2.2)\n",
    "* [3 - Model selection](#3)\n",
    "    * [3.1 - Logistic regression](#3.1)\n",
    "    * [3.2 - Support vector machine - SVM](#3.2)\n",
    "    * [3.2 - Random forest classifier](#3.2)\n",
    "* [4 - Results](#4)    \n",
    "\n",
    "\n",
    "> OBS:  USE GEOPANDAS TO SHOW THE CRIMES ON A GEOGRAPHICAL MAP"
   ]
  },
  {
   "cell_type": "markdown",
   "metadata": {},
   "source": [
    "Collecting the data via API"
   ]
  },
  {
   "cell_type": "code",
   "execution_count": 1,
   "metadata": {},
   "outputs": [
    {
     "name": "stdout",
     "output_type": "stream",
     "text": [
      "['All crime', 'Anti-social behaviour', 'Bicycle theft', 'Burglary', 'Criminal damage and arson', 'Drugs', 'Other theft', 'Possession of weapons', 'Public order', 'Robbery', 'Shoplifting', 'Theft from the person', 'Vehicle crime', 'Violence and sexual offences', 'Other crime']\n",
      "len response_2 = 2\n",
      "category : bicycle-theft\n",
      "month : 2021-01\n",
      "location : {'latitude': '51.487671', 'street': {'id': 950134, 'name': 'On or near Sun Road'}, 'longitude': '-0.204974'}\n"
     ]
    }
   ],
   "source": [
    "import requests\n",
    "from requests.exceptions import ConnectionError, Timeout, TooManyRedirects\n",
    "\n",
    "\n",
    "url_cc = 'https://data.police.uk/api/crime-categories'\n",
    "url_cl = 'https://data.police.uk/api/crimes-at-location'\n",
    "crime_cat = list()\n",
    "\n",
    "parameters = {'lat':51.487884,'lng':-0.205808}\n",
    "keys = ['category', 'month', 'location']\n",
    "\n",
    "try:\n",
    "    # get crime_categories\n",
    "    response = requests.get(url_cc)\n",
    "    response_2 = requests.get(url_cl, params=parameters) \n",
    "    # data = json.loads(response.text)\n",
    "    for i in range(len(response.json())):\n",
    "        crime_cat.append(response.json()[i]['name'])\n",
    "        # print(response.json()[i]['name'])\n",
    "    print(crime_cat)\n",
    "    print(f\"len response_2 = {len(response_2.json())}\")\n",
    "    for key in keys:\n",
    "        print(f\"{key} : {response_2.json()[0][key]}\")\n",
    "except (ConnectionError, Timeout, TooManyRedirects) as e:\n",
    "    print(e)\n"
   ]
  },
  {
   "cell_type": "markdown",
   "metadata": {},
   "source": [
    "Putting together all the CSV files with the crime data"
   ]
  },
  {
   "cell_type": "code",
   "execution_count": 1,
   "metadata": {},
   "outputs": [],
   "source": [
    "import os\n",
    "import pandas as pd\n",
    "\n",
    "def combine_csv(root_dir, file_type, outcome_dir=''):\n",
    "    print('I am in!')\n",
    "    data = pd.DataFrame()\n",
    "    for subdir, dirs, files in os.walk(rootdir):\n",
    "        for file in files:\n",
    "            if (file_type in file):\n",
    "                #print(type_1 + ' : ' + file)\n",
    "                aux = pd.read_csv(os.path.join(subdir, file))\n",
    "                data = data.append(aux)\n",
    "    data.to_csv(outcome_dir, index=False)\n",
    "    return data"
   ]
  },
  {
   "cell_type": "code",
   "execution_count": 2,
   "metadata": {},
   "outputs": [
    {
     "data": {
      "text/html": [
       "<div>\n",
       "<style scoped>\n",
       "    .dataframe tbody tr th:only-of-type {\n",
       "        vertical-align: middle;\n",
       "    }\n",
       "\n",
       "    .dataframe tbody tr th {\n",
       "        vertical-align: top;\n",
       "    }\n",
       "\n",
       "    .dataframe thead th {\n",
       "        text-align: right;\n",
       "    }\n",
       "</style>\n",
       "<table border=\"1\" class=\"dataframe\">\n",
       "  <thead>\n",
       "    <tr style=\"text-align: right;\">\n",
       "      <th></th>\n",
       "      <th>Crime ID</th>\n",
       "      <th>Month</th>\n",
       "      <th>Reported by</th>\n",
       "      <th>Falls within</th>\n",
       "      <th>Longitude</th>\n",
       "      <th>Latitude</th>\n",
       "      <th>Location</th>\n",
       "      <th>LSOA code</th>\n",
       "      <th>LSOA name</th>\n",
       "      <th>Crime type</th>\n",
       "      <th>Last outcome category</th>\n",
       "      <th>Context</th>\n",
       "    </tr>\n",
       "  </thead>\n",
       "  <tbody>\n",
       "    <tr>\n",
       "      <td>0</td>\n",
       "      <td>d59c0bcf3ba28eaedbf70002e5f491c4a2861f4747559d...</td>\n",
       "      <td>2019-05</td>\n",
       "      <td>Metropolitan Police Service</td>\n",
       "      <td>Metropolitan Police Service</td>\n",
       "      <td>-0.335092</td>\n",
       "      <td>50.837110</td>\n",
       "      <td>On or near Downlands Close</td>\n",
       "      <td>E01031344</td>\n",
       "      <td>Adur 006A</td>\n",
       "      <td>Other theft</td>\n",
       "      <td>Status update unavailable</td>\n",
       "      <td>NaN</td>\n",
       "    </tr>\n",
       "    <tr>\n",
       "      <td>1</td>\n",
       "      <td>d2d82438177979dd55b4e9996d52d5803a767ec540a4b2...</td>\n",
       "      <td>2019-05</td>\n",
       "      <td>Metropolitan Police Service</td>\n",
       "      <td>Metropolitan Police Service</td>\n",
       "      <td>0.870209</td>\n",
       "      <td>51.146748</td>\n",
       "      <td>On or near Elwick Road</td>\n",
       "      <td>E01024027</td>\n",
       "      <td>Ashford 005D</td>\n",
       "      <td>Robbery</td>\n",
       "      <td>Status update unavailable</td>\n",
       "      <td>NaN</td>\n",
       "    </tr>\n",
       "    <tr>\n",
       "      <td>2</td>\n",
       "      <td>d2d82438177979dd55b4e9996d52d5803a767ec540a4b2...</td>\n",
       "      <td>2019-05</td>\n",
       "      <td>Metropolitan Police Service</td>\n",
       "      <td>Metropolitan Police Service</td>\n",
       "      <td>0.870209</td>\n",
       "      <td>51.146748</td>\n",
       "      <td>On or near Elwick Road</td>\n",
       "      <td>E01024027</td>\n",
       "      <td>Ashford 005D</td>\n",
       "      <td>Robbery</td>\n",
       "      <td>Status update unavailable</td>\n",
       "      <td>NaN</td>\n",
       "    </tr>\n",
       "    <tr>\n",
       "      <td>3</td>\n",
       "      <td>a6d49e6643cff5f139b5be8d8e99df96cc8820b7e4eedd...</td>\n",
       "      <td>2019-05</td>\n",
       "      <td>Metropolitan Police Service</td>\n",
       "      <td>Metropolitan Police Service</td>\n",
       "      <td>-0.836936</td>\n",
       "      <td>51.816400</td>\n",
       "      <td>On or near Queensgate</td>\n",
       "      <td>E01032957</td>\n",
       "      <td>Aylesbury Vale 016F</td>\n",
       "      <td>Violence and sexual offences</td>\n",
       "      <td>Status update unavailable</td>\n",
       "      <td>NaN</td>\n",
       "    </tr>\n",
       "    <tr>\n",
       "      <td>4</td>\n",
       "      <td>6f8439e04bddf273d9cd4c35f4d09b49c38cfa76eb5764...</td>\n",
       "      <td>2019-05</td>\n",
       "      <td>Metropolitan Police Service</td>\n",
       "      <td>Metropolitan Police Service</td>\n",
       "      <td>-0.811843</td>\n",
       "      <td>51.811276</td>\n",
       "      <td>On or near York Place</td>\n",
       "      <td>E01017712</td>\n",
       "      <td>Aylesbury Vale 018D</td>\n",
       "      <td>Violence and sexual offences</td>\n",
       "      <td>Status update unavailable</td>\n",
       "      <td>NaN</td>\n",
       "    </tr>\n",
       "  </tbody>\n",
       "</table>\n",
       "</div>"
      ],
      "text/plain": [
       "                                            Crime ID    Month  \\\n",
       "0  d59c0bcf3ba28eaedbf70002e5f491c4a2861f4747559d...  2019-05   \n",
       "1  d2d82438177979dd55b4e9996d52d5803a767ec540a4b2...  2019-05   \n",
       "2  d2d82438177979dd55b4e9996d52d5803a767ec540a4b2...  2019-05   \n",
       "3  a6d49e6643cff5f139b5be8d8e99df96cc8820b7e4eedd...  2019-05   \n",
       "4  6f8439e04bddf273d9cd4c35f4d09b49c38cfa76eb5764...  2019-05   \n",
       "\n",
       "                   Reported by                 Falls within  Longitude  \\\n",
       "0  Metropolitan Police Service  Metropolitan Police Service  -0.335092   \n",
       "1  Metropolitan Police Service  Metropolitan Police Service   0.870209   \n",
       "2  Metropolitan Police Service  Metropolitan Police Service   0.870209   \n",
       "3  Metropolitan Police Service  Metropolitan Police Service  -0.836936   \n",
       "4  Metropolitan Police Service  Metropolitan Police Service  -0.811843   \n",
       "\n",
       "    Latitude                    Location  LSOA code            LSOA name  \\\n",
       "0  50.837110  On or near Downlands Close  E01031344            Adur 006A   \n",
       "1  51.146748      On or near Elwick Road  E01024027         Ashford 005D   \n",
       "2  51.146748      On or near Elwick Road  E01024027         Ashford 005D   \n",
       "3  51.816400       On or near Queensgate  E01032957  Aylesbury Vale 016F   \n",
       "4  51.811276       On or near York Place  E01017712  Aylesbury Vale 018D   \n",
       "\n",
       "                     Crime type      Last outcome category  Context  \n",
       "0                   Other theft  Status update unavailable      NaN  \n",
       "1                       Robbery  Status update unavailable      NaN  \n",
       "2                       Robbery  Status update unavailable      NaN  \n",
       "3  Violence and sexual offences  Status update unavailable      NaN  \n",
       "4  Violence and sexual offences  Status update unavailable      NaN  "
      ]
     },
     "execution_count": 2,
     "metadata": {},
     "output_type": "execute_result"
    }
   ],
   "source": [
    "# path for each directory\n",
    "rootdir = 'C:/Users/CarlosFelipe/Dropbox/DataScience/DataScienceProjects/Unguided/LondonCrimeAnalysis'\n",
    "datadir = rootdir + '/data'\n",
    "outcomesDir = rootdir + '/input/metropolitan-outcomes.csv'\n",
    "stopAndSearchDir = rootdir + '/input/metropolitan-stop-and-search.csv'\n",
    "streetDir = rootdir + '/input/metropolitan-street.csv'\n",
    "locations = ['On or near Sun Road','On or near Star Road', 'On or near North End Road']\n",
    "\n",
    "# types of files\n",
    "type_1 = 'outcomes'\n",
    "type_2 = 'stop-and-search'\n",
    "type_3 = 'street'\n",
    "\n",
    "\"\"\"\n",
    "In each folder we have 3 types of files:\n",
    "1-aaaa-mm-metropolitan-outcomes.csv\n",
    "2-aaaa-mm-metropolitan-stop-and-search.csv\n",
    "3-aaaa-mm-metropolitan-street.csv\n",
    "\"\"\"\n",
    "\n",
    "# Right now, I only interested in the type_3 file\n",
    "# first I will test to see if the compilation of all type 3 files already exist\n",
    "# otherwise I will call the function to compile all of them for me\n",
    "if os.path.isfile(streetDir):\n",
    "    df = pd.read_csv(streetDir, sep=',')\n",
    "else:\n",
    "    df = combine_csv(rootdir, type_3, streetDir)\n",
    "\n",
    "# test if code worked, printing the first 5 rows of the dataframe\n",
    "\n",
    "df.head()"
   ]
  },
  {
   "cell_type": "markdown",
   "metadata": {},
   "source": [
    "## 1.2. Exploring the dataframe <a class=\"anchor\" id=\"1.2\"></a>\n",
    "After successfully compiled all the data into a single *.csv* file and imported it to a pandas dataframe, we can start exploring the dataset. First we can check some information about this dataset using the [.info()](https://pandas.pydata.org/pandas-docs/stable/reference/api/pandas.DataFrame.info.html) pandas function"
   ]
  },
  {
   "cell_type": "code",
   "execution_count": 3,
   "metadata": {},
   "outputs": [
    {
     "name": "stdout",
     "output_type": "stream",
     "text": [
      "Dataframe basic information:\n",
      "\n",
      "<class 'pandas.core.frame.DataFrame'>\n",
      "RangeIndex: 1926007 entries, 0 to 1926006\n",
      "Data columns (total 12 columns):\n",
      "Crime ID                 1342956 non-null object\n",
      "Month                    1926007 non-null object\n",
      "Reported by              1926007 non-null object\n",
      "Falls within             1926007 non-null object\n",
      "Longitude                1911954 non-null float64\n",
      "Latitude                 1911954 non-null float64\n",
      "Location                 1926007 non-null object\n",
      "LSOA code                1911954 non-null object\n",
      "LSOA name                1911954 non-null object\n",
      "Crime type               1926007 non-null object\n",
      "Last outcome category    1342956 non-null object\n",
      "Context                  0 non-null float64\n",
      "dtypes: float64(3), object(9)\n",
      "memory usage: 176.3+ MB\n"
     ]
    },
    {
     "data": {
      "text/plain": [
       "None"
      ]
     },
     "metadata": {},
     "output_type": "display_data"
    }
   ],
   "source": [
    "print(\"Dataframe basic information:\\n\")\n",
    "display(df.info(null_counts=True))"
   ]
  },
  {
   "cell_type": "code",
   "execution_count": 4,
   "metadata": {},
   "outputs": [
    {
     "name": "stdout",
     "output_type": "stream",
     "text": [
      "Dataframe columns:\n"
     ]
    },
    {
     "data": {
      "text/plain": [
       "['Crime ID',\n",
       " 'Month',\n",
       " 'Reported by',\n",
       " 'Falls within',\n",
       " 'Longitude',\n",
       " 'Latitude',\n",
       " 'Location',\n",
       " 'LSOA code',\n",
       " 'LSOA name',\n",
       " 'Crime type',\n",
       " 'Last outcome category',\n",
       " 'Context']"
      ]
     },
     "metadata": {},
     "output_type": "display_data"
    }
   ],
   "source": [
    "print(\"Dataframe columns:\")\n",
    "display(list(df.columns))"
   ]
  },
  {
   "cell_type": "markdown",
   "metadata": {},
   "source": [
    "This dataset is compose for 12 columns. The **Context** column, according to the [data.police.uk](https://data.police.uk/about/) website, is a field provided for forces to provide additional human-readable data about individual crimes. Currently, for newly added CSVs, this is always empty. As we can, in this data set, this column is also empty, so we can just discard it using the [.drop()](https://pandas.pydata.org/pandas-docs/stable/reference/api/pandas.DataFrame.drop.html) method.\n",
    "\n",
    "```columns_to_drop = ['Context']```\n",
    "\n",
    "A relevant information about this dataset is that I collected the dataset in a way, that all the crimes are reported by and falls into the jurisdiction of the metropolitan police from *05-2019 to 12-2020*. We can easily check that this information is true using the [.unique()](https://pandas.pydata.org/pandas-docs/stable/reference/api/pandas.Series.unique.html) method on both **Reported by** and **Falls within** columns. \n",
    "\n",
    "```display(\"'Reported by' unique values:\")\n",
    "display(data['Reported by'].unique())\n",
    "display(\"'Falls within' unique values: \")\n",
    "display(data['Falls within'].unique())```\n",
    "\n",
    "This method will show  unique values in a Series object. Thus, we can also discard this two columns as they won't contribute to our analysis.\n",
    "\n",
    "```columns_to_drop.append(['Reported by', 'Falls within'])```"
   ]
  },
  {
   "cell_type": "code",
   "execution_count": 5,
   "metadata": {},
   "outputs": [
    {
     "data": {
      "text/plain": [
       "['Crime ID',\n",
       " 'Month',\n",
       " 'Longitude',\n",
       " 'Latitude',\n",
       " 'Location',\n",
       " 'LSOA code',\n",
       " 'LSOA name',\n",
       " 'Crime type',\n",
       " 'Last outcome category']"
      ]
     },
     "metadata": {},
     "output_type": "display_data"
    }
   ],
   "source": [
    "# creating our columns to drop variable\n",
    "columns_to_drop = ['Context','Reported by', 'Falls within']\n",
    "\n",
    "#dropping the columns\n",
    "data = df.drop(columns=columns_to_drop)\n",
    "\n",
    "#checking if the columns were dropped correctly\n",
    "display(list(data.columns))"
   ]
  },
  {
   "cell_type": "markdown",
   "metadata": {},
   "source": [
    "The column **Crime type** is filled based on the crime types (14 in total) listed in the [Police.UK FAQ.](https://www.police.uk/pu/about-police.uk-crime-data/), which are:\n",
    "* **Anti-Social Behaviour**: Includes personal, environmental and nuisance anti-social behaviour;\n",
    "* **Bicycle theft**: Includes the taking without consent or theft of a pedal cycle;\n",
    "* **Burglary**: Includes offences where a person enters a house or other building with the intention of stealing;\n",
    "* **Criminal damage and arson**: Includes damage to buildings and vehicles and deliberate damage by fire;\n",
    "* **Drugs**: Includes offences related to possession, supply and production;\n",
    "* **Other crime**: Includes forgery, perjury and other miscellaneous crime;\n",
    "* **Other theft**: Includes theft by an employee, blackmail and making off without payment;\n",
    "* **Possession of weapons**: Includes possession of a weapon, such as a firearm or knife;\n",
    "* **Public order**: Includes offences which cause fear, alarm or distress;\n",
    "* **Robbery**: Includes offences where a person uses force or threat of force to steal;\n",
    "* **Shoplifting**: Includes theft from shops or stalls;\n",
    "* **Theft from the person**: Includes crimes that involve theft directly from the victim (including handbag, wallet, cash, mobile phones) but without the use or threat of physical force;\n",
    "* **Vehicle crime**: Includes theft from or of a vehicle or interference with a vehicle;\n",
    "* **Violence and sexual offences**: Includes offences against the person such as common assaults, Grievous Bodily Harm and sexual offences;\n",
    "\n",
    "let's check if all the 14 crime types were included in this dataset:"
   ]
  },
  {
   "cell_type": "code",
   "execution_count": 6,
   "metadata": {},
   "outputs": [
    {
     "name": "stdout",
     "output_type": "stream",
     "text": [
      "Number of unique types of crime: 14 \n",
      "\n",
      "\n",
      "Listing the unique types of crime: \n",
      "\n"
     ]
    },
    {
     "data": {
      "text/plain": [
       "['Anti-social behaviour',\n",
       " 'Bicycle theft',\n",
       " 'Burglary',\n",
       " 'Criminal damage and arson',\n",
       " 'Drugs',\n",
       " 'Other crime',\n",
       " 'Other theft',\n",
       " 'Possession of weapons',\n",
       " 'Public order',\n",
       " 'Robbery',\n",
       " 'Shoplifting',\n",
       " 'Theft from the person',\n",
       " 'Vehicle crime',\n",
       " 'Violence and sexual offences']"
      ]
     },
     "execution_count": 6,
     "metadata": {},
     "output_type": "execute_result"
    }
   ],
   "source": [
    "# counting how many unique values we have in this series\n",
    "print(f\"Number of unique types of crime: {data['Crime type'].nunique()} \\n\")\n",
    "print(\"\\nListing the unique types of crime: \\n\")\n",
    "list(data['Crime type'].sort_values().unique())\n"
   ]
  },
  {
   "cell_type": "markdown",
   "metadata": {},
   "source": [
    " The dataset contains all types of crime. Let's check how much each type of crime we have in this dataset"
   ]
  },
  {
   "cell_type": "code",
   "execution_count": 42,
   "metadata": {},
   "outputs": [
    {
     "data": {
      "text/plain": [
       "Possession of weapons           0.005118\n",
       "Other crime                     0.008727\n",
       "Bicycle theft                   0.019008\n",
       "Robbery                         0.027851\n",
       "Shoplifting                     0.033023\n",
       "Theft from the person           0.033982\n",
       "Drugs                           0.042294\n",
       "Criminal damage and arson       0.044575\n",
       "Public order                    0.045743\n",
       "Burglary                        0.058478\n",
       "Other theft                     0.083996\n",
       "Vehicle crime                   0.096645\n",
       "Violence and sexual offences    0.197835\n",
       "Anti-social behaviour           0.302725\n",
       "Name: Crime type, dtype: float64"
      ]
     },
     "metadata": {},
     "output_type": "display_data"
    }
   ],
   "source": [
    "# getting the relative frequencies of the unique values\n",
    "x = data['Crime type'].value_counts(normalize=True).sort_values(ascending=True)\n",
    "display(x)"
   ]
  },
  {
   "cell_type": "code",
   "execution_count": 52,
   "metadata": {},
   "outputs": [
    {
     "data": {
      "image/png": "[encoded data removed]",
      "text/plain": [
       "<Figure size 576x432 with 1 Axes>"
      ]
     },
     "metadata": {
      "needs_background": "light"
     },
     "output_type": "display_data"
    }
   ],
   "source": [
    "# make a plot using the percentage of each crime type\n",
    "from matplotlib import pyplot as plt\n",
    "%matplotlib inline\n",
    "plt.style.use('bmh')\n",
    "x_pos = [i for i, _ in enumerate(x.index.values)]\n",
    "\n",
    "plt.figure(figsize=(8,6))\n",
    "plt.barh(x_pos, x)\n",
    "plt.xlabel(\"Count of unique values (%)\")\n",
    "plt.ylabel(\"Crimes type\")\n",
    "plt.title(\"Percentage of crimes committed by crime type\")\n",
    "plt.yticks(x_pos, x.index.values)\n",
    "\n",
    "plt.show()"
   ]
  },
  {
   "cell_type": "markdown",
   "metadata": {},
   "source": [
    "Based on the graph above, we can notice that, between 05/2019 and 12/2020, Anti-social behaviour and Violence and sexual offences are accounted for about 50% of all crime committed in London for the period. Let's see what is the tendency of both of these categories of crime over time.  \n"
   ]
  },
  {
   "cell_type": "code",
   "execution_count": 53,
   "metadata": {},
   "outputs": [
    {
     "data": {
      "text/html": [
       "<div>\n",
       "<style scoped>\n",
       "    .dataframe tbody tr th:only-of-type {\n",
       "        vertical-align: middle;\n",
       "    }\n",
       "\n",
       "    .dataframe tbody tr th {\n",
       "        vertical-align: top;\n",
       "    }\n",
       "\n",
       "    .dataframe thead th {\n",
       "        text-align: right;\n",
       "    }\n",
       "</style>\n",
       "<table border=\"1\" class=\"dataframe\">\n",
       "  <thead>\n",
       "    <tr style=\"text-align: right;\">\n",
       "      <th></th>\n",
       "      <th>Crime ID</th>\n",
       "      <th>Month</th>\n",
       "      <th>Longitude</th>\n",
       "      <th>Latitude</th>\n",
       "      <th>Location</th>\n",
       "      <th>LSOA code</th>\n",
       "      <th>LSOA name</th>\n",
       "      <th>Crime type</th>\n",
       "      <th>Last outcome category</th>\n",
       "    </tr>\n",
       "  </thead>\n",
       "  <tbody>\n",
       "    <tr>\n",
       "      <td>0</td>\n",
       "      <td>d59c0bcf3ba28eaedbf70002e5f491c4a2861f4747559d...</td>\n",
       "      <td>2019-05</td>\n",
       "      <td>-0.335092</td>\n",
       "      <td>50.837110</td>\n",
       "      <td>On or near Downlands Close</td>\n",
       "      <td>E01031344</td>\n",
       "      <td>Adur 006A</td>\n",
       "      <td>Other theft</td>\n",
       "      <td>Status update unavailable</td>\n",
       "    </tr>\n",
       "    <tr>\n",
       "      <td>1</td>\n",
       "      <td>d2d82438177979dd55b4e9996d52d5803a767ec540a4b2...</td>\n",
       "      <td>2019-05</td>\n",
       "      <td>0.870209</td>\n",
       "      <td>51.146748</td>\n",
       "      <td>On or near Elwick Road</td>\n",
       "      <td>E01024027</td>\n",
       "      <td>Ashford 005D</td>\n",
       "      <td>Robbery</td>\n",
       "      <td>Status update unavailable</td>\n",
       "    </tr>\n",
       "    <tr>\n",
       "      <td>2</td>\n",
       "      <td>d2d82438177979dd55b4e9996d52d5803a767ec540a4b2...</td>\n",
       "      <td>2019-05</td>\n",
       "      <td>0.870209</td>\n",
       "      <td>51.146748</td>\n",
       "      <td>On or near Elwick Road</td>\n",
       "      <td>E01024027</td>\n",
       "      <td>Ashford 005D</td>\n",
       "      <td>Robbery</td>\n",
       "      <td>Status update unavailable</td>\n",
       "    </tr>\n",
       "    <tr>\n",
       "      <td>3</td>\n",
       "      <td>a6d49e6643cff5f139b5be8d8e99df96cc8820b7e4eedd...</td>\n",
       "      <td>2019-05</td>\n",
       "      <td>-0.836936</td>\n",
       "      <td>51.816400</td>\n",
       "      <td>On or near Queensgate</td>\n",
       "      <td>E01032957</td>\n",
       "      <td>Aylesbury Vale 016F</td>\n",
       "      <td>Violence and sexual offences</td>\n",
       "      <td>Status update unavailable</td>\n",
       "    </tr>\n",
       "    <tr>\n",
       "      <td>4</td>\n",
       "      <td>6f8439e04bddf273d9cd4c35f4d09b49c38cfa76eb5764...</td>\n",
       "      <td>2019-05</td>\n",
       "      <td>-0.811843</td>\n",
       "      <td>51.811276</td>\n",
       "      <td>On or near York Place</td>\n",
       "      <td>E01017712</td>\n",
       "      <td>Aylesbury Vale 018D</td>\n",
       "      <td>Violence and sexual offences</td>\n",
       "      <td>Status update unavailable</td>\n",
       "    </tr>\n",
       "  </tbody>\n",
       "</table>\n",
       "</div>"
      ],
      "text/plain": [
       "                                            Crime ID    Month  Longitude  \\\n",
       "0  d59c0bcf3ba28eaedbf70002e5f491c4a2861f4747559d...  2019-05  -0.335092   \n",
       "1  d2d82438177979dd55b4e9996d52d5803a767ec540a4b2...  2019-05   0.870209   \n",
       "2  d2d82438177979dd55b4e9996d52d5803a767ec540a4b2...  2019-05   0.870209   \n",
       "3  a6d49e6643cff5f139b5be8d8e99df96cc8820b7e4eedd...  2019-05  -0.836936   \n",
       "4  6f8439e04bddf273d9cd4c35f4d09b49c38cfa76eb5764...  2019-05  -0.811843   \n",
       "\n",
       "    Latitude                    Location  LSOA code            LSOA name  \\\n",
       "0  50.837110  On or near Downlands Close  E01031344            Adur 006A   \n",
       "1  51.146748      On or near Elwick Road  E01024027         Ashford 005D   \n",
       "2  51.146748      On or near Elwick Road  E01024027         Ashford 005D   \n",
       "3  51.816400       On or near Queensgate  E01032957  Aylesbury Vale 016F   \n",
       "4  51.811276       On or near York Place  E01017712  Aylesbury Vale 018D   \n",
       "\n",
       "                     Crime type      Last outcome category  \n",
       "0                   Other theft  Status update unavailable  \n",
       "1                       Robbery  Status update unavailable  \n",
       "2                       Robbery  Status update unavailable  \n",
       "3  Violence and sexual offences  Status update unavailable  \n",
       "4  Violence and sexual offences  Status update unavailable  "
      ]
     },
     "execution_count": 53,
     "metadata": {},
     "output_type": "execute_result"
    }
   ],
   "source": [
    "data.head()"
   ]
  }
 ],
 "metadata": {
  "kernelspec": {
   "display_name": "Python 3",
   "language": "python",
   "name": "python3"
  },
  "language_info": {
   "codemirror_mode": {
    "name": "ipython",
    "version": 3
   },
   "file_extension": ".py",
   "mimetype": "text/x-python",
   "name": "python",
   "nbconvert_exporter": "python",
   "pygments_lexer": "ipython3",
   "version": "3.7.4"
  }
 },
 "nbformat": 4,
 "nbformat_minor": 2
}
