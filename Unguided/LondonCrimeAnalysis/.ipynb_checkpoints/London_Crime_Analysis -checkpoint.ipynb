{
 "cells": [
  {
   "cell_type": "markdown",
   "metadata": {},
   "source": [
    "# London Crime Data\n",
    "\n",
    "### Table of Contents\n",
    "\n",
    "* [1 - Importing the data](#1)\n",
    "    * [1.1 - Importing the data](#1.1)\n",
    "    * [1.2 - Exploring the dataset](#1.2)\n",
    "* [2 - Preprocessing/Data cleaning](#2)\n",
    "    * [2.1 - Feature selection](#2.1)\n",
    "    * [2.2 - Handling missing/null values](#2.2)\n",
    "* [3 - Model selection](#3)\n",
    "    * [3.1 - Logistic regression](#3.1)\n",
    "    * [3.2 - Support vector machine - SVM](#3.2)\n",
    "    * [3.2 - Random forest classifier](#3.2)\n",
    "* [4 - Results](#4)    "
   ]
  },
  {
   "cell_type": "code",
   "execution_count": 23,
   "metadata": {},
   "outputs": [
    {
     "name": "stdout",
     "output_type": "stream",
     "text": [
      "['All crime', 'Anti-social behaviour', 'Bicycle theft', 'Burglary', 'Criminal damage and arson', 'Drugs', 'Other theft', 'Possession of weapons', 'Public order', 'Robbery', 'Shoplifting', 'Theft from the person', 'Vehicle crime', 'Violence and sexual offences', 'Other crime']\n",
      "len response_2 = 1\n",
      "category : vehicle-crime\n",
      "month : 2020-12\n",
      "location : {'latitude': '51.487671', 'street': {'id': 950134, 'name': 'On or near Sun Road'}, 'longitude': '-0.204974'}\n"
     ]
    }
   ],
   "source": [
    "import requests\n",
    "from requests.exceptions import ConnectionError, Timeout, TooManyRedirects\n",
    "\n",
    "\n",
    "url_cc = 'https://data.police.uk/api/crime-categories'\n",
    "url_cl = 'https://data.police.uk/api/crimes-at-location'\n",
    "crime_cat = list()\n",
    "\n",
    "parameters = {'lat':51.487884,'lng':-0.205808}\n",
    "keys = ['category', 'month', 'location']\n",
    "\n",
    "try:\n",
    "    # get crime_categories\n",
    "    response = requests.get(url_cc)\n",
    "    response_2 = requests.get(url_cl, params=parameters) \n",
    "    # data = json.loads(response.text)\n",
    "    for i in range(len(response.json())):\n",
    "        crime_cat.append(response.json()[i]['name'])\n",
    "        # print(response.json()[i]['name'])\n",
    "    print(crime_cat)\n",
    "    print(f\"len response_2 = {len(response_2.json())}\")\n",
    "    for key in keys:\n",
    "        print(f\"{key} : {response_2.json()[0][key]}\")\n",
    "except (ConnectionError, Timeout, TooManyRedirects) as e:\n",
    "    print(e)\n"
   ]
  },
  {
   "cell_type": "code",
   "execution_count": null,
   "metadata": {},
   "outputs": [],
   "source": []
  }
 ],
 "metadata": {
  "kernelspec": {
   "display_name": "Python 3",
   "language": "python",
   "name": "python3"
  },
  "language_info": {
   "codemirror_mode": {
    "name": "ipython",
    "version": 3
   },
   "file_extension": ".py",
   "mimetype": "text/x-python",
   "name": "python",
   "nbconvert_exporter": "python",
   "pygments_lexer": "ipython3",
   "version": "3.7.4"
  }
 },
 "nbformat": 4,
 "nbformat_minor": 2
}
