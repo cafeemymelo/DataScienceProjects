{
 "cells": [
  {
   "cell_type": "markdown",
   "metadata": {
    "papermill": {
     "duration": 0.014486,
     "end_time": "2021-02-25T18:10:03.699891",
     "exception": false,
     "start_time": "2021-02-25T18:10:03.685405",
     "status": "completed"
    },
    "tags": []
   },
   "source": [
    "## This file contains the code for [Kaggle's Titanic prediction competition](https://www.kaggle.com/c/titanic/overview/description) where the goal was to predict if a passanger has survived the sinking or not (Classification problem). \n",
    "\n",
    "\n",
    "### Table of Contents\n",
    "\n",
    "* [1 - Initial steps](#1)\n",
    "    * [1.1 - Importing the data](#1.1)\n",
    "    * [1.2 - Exploring the dataset](#1.2)\n",
    "* [2 - Preprocessing/Data cleaning](#2)\n",
    "    * [2.1 - Feature selection](#2.1)\n",
    "    * [2.2 - Handling missing/null values](#2.2)\n",
    "* [3 - Model selection](#3)\n",
    "    * [3.1 - Logistic regression](#3.1)\n",
    "    * [3.2 - Support vector machine - SVM](#3.2)\n",
    "    * [3.2 - Random forest classifier](#3.2)\n",
    "* [4 - Results](#4)    "
   ]
  },
  {
   "cell_type": "markdown",
   "metadata": {
    "papermill": {
     "duration": 0.012915,
     "end_time": "2021-02-25T18:10:03.726335",
     "exception": false,
     "start_time": "2021-02-25T18:10:03.713420",
     "status": "completed"
    },
    "tags": []
   },
   "source": [
    "## 1. Initial steps <a class=\"anchor\" id=\"1\"></a>\n",
    "### 1.1. Importing the data <a class=\"anchor\" id=\"1.1\"></a> \n",
    "> The dataset available for the competition was already divided into [test](https://www.kaggle.com/c/titanic/data?select=test.csv) and [train](https://www.kaggle.com/c/titanic/data?select=train.csv) samples. The first step is to import both dataset into the notebook into a [pandas dataframe](https://pandas.pydata.org/pandas-docs/stable/reference/api/pandas.DataFrame.html?highlight=dataframe#pandas.DataFrame).\n"
   ]
  },
  {
   "cell_type": "code",
   "execution_count": 1,
   "metadata": {
    "execution": {
     "iopub.execute_input": "2021-02-25T18:10:03.760447Z",
     "iopub.status.busy": "2021-02-25T18:10:03.759686Z",
     "iopub.status.idle": "2021-02-25T18:10:03.816828Z",
     "shell.execute_reply": "2021-02-25T18:10:03.816089Z"
    },
    "papermill": {
     "duration": 0.077393,
     "end_time": "2021-02-25T18:10:03.817031",
     "exception": false,
     "start_time": "2021-02-25T18:10:03.739638",
     "status": "completed"
    },
    "tags": []
   },
   "outputs": [
    {
     "name": "stdout",
     "output_type": "stream",
     "text": [
      "------------------------ TRAIN DATAFRAME FIRST ROWS ------------------------\n",
      "\n",
      "   PassengerId  Survived  Pclass  \\\n",
      "0            1         0       3   \n",
      "1            2         1       1   \n",
      "2            3         1       3   \n",
      "3            4         1       1   \n",
      "4            5         0       3   \n",
      "\n",
      "                                                Name     Sex   Age  SibSp  \\\n",
      "0                            Braund, Mr. Owen Harris    male  22.0      1   \n",
      "1  Cumings, Mrs. John Bradley (Florence Briggs Th...  female  38.0      1   \n",
      "2                             Heikkinen, Miss. Laina  female  26.0      0   \n",
      "3       Futrelle, Mrs. Jacques Heath (Lily May Peel)  female  35.0      1   \n",
      "4                           Allen, Mr. William Henry    male  35.0      0   \n",
      "\n",
      "   Parch            Ticket     Fare Cabin Embarked  \n",
      "0      0         A/5 21171   7.2500   NaN        S  \n",
      "1      0          PC 17599  71.2833   C85        C  \n",
      "2      0  STON/O2. 3101282   7.9250   NaN        S  \n",
      "3      0            113803  53.1000  C123        S  \n",
      "4      0            373450   8.0500   NaN        S  \n",
      "\n",
      "------------------------ TEST DATAFRAME FIRST ROWS ------------------------\n",
      "\n",
      "   PassengerId  Pclass                                          Name     Sex  \\\n",
      "0          892       3                              Kelly, Mr. James    male   \n",
      "1          893       3              Wilkes, Mrs. James (Ellen Needs)  female   \n",
      "2          894       2                     Myles, Mr. Thomas Francis    male   \n",
      "3          895       3                              Wirz, Mr. Albert    male   \n",
      "4          896       3  Hirvonen, Mrs. Alexander (Helga E Lindqvist)  female   \n",
      "\n",
      "    Age  SibSp  Parch   Ticket     Fare Cabin Embarked  \n",
      "0  34.5      0      0   330911   7.8292   NaN        Q  \n",
      "1  47.0      1      0   363272   7.0000   NaN        S  \n",
      "2  62.0      0      0   240276   9.6875   NaN        Q  \n",
      "3  27.0      0      0   315154   8.6625   NaN        S  \n",
      "4  22.0      1      1  3101298  12.2875   NaN        S  \n"
     ]
    }
   ],
   "source": [
    "# import pandas\n",
    "import pandas as pd\n",
    "\n",
    "#importing the train and test dataset\n",
    "train = pd.read_csv('../input/titanic/train.csv', sep=',')\n",
    "test = pd.read_csv('../input/titanic/test.csv', sep=',')\n",
    "\n",
    "#Print the first rows to see if the dataset was imported correctly\n",
    "print(\"------------------------ TRAIN DATAFRAME FIRST ROWS ------------------------\\n\")\n",
    "print(train.head())\n",
    "print(\"\\n------------------------ TEST DATAFRAME FIRST ROWS ------------------------\\n\")\n",
    "print(test.head())"
   ]
  },
  {
   "cell_type": "markdown",
   "metadata": {
    "papermill": {
     "duration": 0.013492,
     "end_time": "2021-02-25T18:10:03.844906",
     "exception": false,
     "start_time": "2021-02-25T18:10:03.831414",
     "status": "completed"
    },
    "tags": []
   },
   "source": [
    "### 1.2. Exploring the dataset <a class=\"anchor\" id=\"1.2\"></a>\n",
    "> That dataset was successfully imported into the train and test dataset. Now we can begin exploring the dataset. A good practice is to build a data dictionary so we can others can clearly understand what each column in our dataset is representing. Before building our data dictionary, let's see which columns we have in both datasets. We can use the [.columns](https://pandas.pydata.org/pandas-docs/stable/reference/api/pandas.DataFrame.columns.html?highlight=columns#pandas.DataFrame.columns) or [.info](https://pandas.pydata.org/pandas-docs/stable/reference/api/pandas.DataFrame.info.html) method from pandas."
   ]
  },
  {
   "cell_type": "code",
   "execution_count": 2,
   "metadata": {
    "execution": {
     "iopub.execute_input": "2021-02-25T18:10:03.903721Z",
     "iopub.status.busy": "2021-02-25T18:10:03.903056Z",
     "iopub.status.idle": "2021-02-25T18:10:03.906732Z",
     "shell.execute_reply": "2021-02-25T18:10:03.906243Z"
    },
    "papermill": {
     "duration": 0.04816,
     "end_time": "2021-02-25T18:10:03.906882",
     "exception": false,
     "start_time": "2021-02-25T18:10:03.858722",
     "status": "completed"
    },
    "tags": []
   },
   "outputs": [
    {
     "name": "stdout",
     "output_type": "stream",
     "text": [
      "------------------------ TRAIN DATAFRAME INFO ------------------------\n",
      "\n",
      "<class 'pandas.core.frame.DataFrame'>\n",
      "RangeIndex: 891 entries, 0 to 890\n",
      "Data columns (total 12 columns):\n",
      " #   Column       Non-Null Count  Dtype  \n",
      "---  ------       --------------  -----  \n",
      " 0   PassengerId  891 non-null    int64  \n",
      " 1   Survived     891 non-null    int64  \n",
      " 2   Pclass       891 non-null    int64  \n",
      " 3   Name         891 non-null    object \n",
      " 4   Sex          891 non-null    object \n",
      " 5   Age          714 non-null    float64\n",
      " 6   SibSp        891 non-null    int64  \n",
      " 7   Parch        891 non-null    int64  \n",
      " 8   Ticket       891 non-null    object \n",
      " 9   Fare         891 non-null    float64\n",
      " 10  Cabin        204 non-null    object \n",
      " 11  Embarked     889 non-null    object \n",
      "dtypes: float64(2), int64(5), object(5)\n",
      "memory usage: 83.7+ KB\n",
      "None\n",
      "\n",
      "------------------------ TEST DATAFRAME INFO ------------------------\n",
      "\n",
      "<class 'pandas.core.frame.DataFrame'>\n",
      "RangeIndex: 418 entries, 0 to 417\n",
      "Data columns (total 11 columns):\n",
      " #   Column       Non-Null Count  Dtype  \n",
      "---  ------       --------------  -----  \n",
      " 0   PassengerId  418 non-null    int64  \n",
      " 1   Pclass       418 non-null    int64  \n",
      " 2   Name         418 non-null    object \n",
      " 3   Sex          418 non-null    object \n",
      " 4   Age          332 non-null    float64\n",
      " 5   SibSp        418 non-null    int64  \n",
      " 6   Parch        418 non-null    int64  \n",
      " 7   Ticket       418 non-null    object \n",
      " 8   Fare         417 non-null    float64\n",
      " 9   Cabin        91 non-null     object \n",
      " 10  Embarked     418 non-null    object \n",
      "dtypes: float64(2), int64(4), object(5)\n",
      "memory usage: 36.0+ KB\n",
      "None\n"
     ]
    }
   ],
   "source": [
    "print(\"------------------------ TRAIN DATAFRAME INFO ------------------------\\n\")\n",
    "print(train.info())\n",
    "print(\"\\n------------------------ TEST DATAFRAME INFO ------------------------\\n\")\n",
    "print(test.info())"
   ]
  },
  {
   "cell_type": "markdown",
   "metadata": {
    "papermill": {
     "duration": 0.01425,
     "end_time": "2021-02-25T18:10:03.935437",
     "exception": false,
     "start_time": "2021-02-25T18:10:03.921187",
     "status": "completed"
    },
    "tags": []
   },
   "source": [
    "> We can see that for the test dataset the column 'Survived' (target) was not provided. This is because our model has to predict the outcome. Usually, the ground truth, or the target column, is provided so we can measure our model against the unseen data, but for the Kaggle competition, normally we submit our prediction and they would compare our measures against the ground truth and rate the performance of your model using the appropriate metrics. That being said, let's now build our data dictionary. I will divide the dictionary into features(columns) which are the measured inputs of the problem domain, the independdent variables, and target which is the dependent variable or the measure we're trying to model or forecast [ref](https://datascience.stackexchange.com/questions/38188/classifying-data-in-orange-whats-the-difference-between-features-target-va).\n",
    "\n",
    "------\n",
    "**<font color='blue'>Target</font>**:\n",
    "\n",
    "| **Column** | **Description** | **Key** | **Type** |\n",
    "| :-: | :-: | :-: | :-: |\n",
    "| *Survived* | If the passanger had survived or not | 0 = No; 1 = Yes | int64 |\n",
    "\n",
    "**<font color='red'>Features</font>**:\n",
    "\n",
    "| **Column** | **Description** | **Key** | **Type** |\n",
    "| :-: | :-: | :-: | :-: |\n",
    "| *PassengerId* | Unique Id to identify a passenger |  | int64 |\n",
    "| *Pclass* | Ticket class | 1 = 1st, 2 = 2nd, 3 = 3rd | int64 |\n",
    "| *Name* | Passanger Name |  | object |\n",
    "| *Sex* | Passenger biologic sex | Male, Female | object |\n",
    "| *Age* | Passenger age |  | float64 |\n",
    "| *SibSp* | Number of siblings / spouses aboard the Titanic |  | int64 |\n",
    "| *Parch* | Number of parents / children aboard the Titanic |  | int64 |\n",
    "| *Ticket* | Ticket number |  | object |\n",
    "| *Fare* | Passenger fare |  | float64 |\n",
    "| *Cabin* | Cabin number |  | object |\n",
    "| *Embarked* | Port of embarkation | C = Cherbourg, Q = Queenstown, S = Southampton | object |\n",
    "\n",
    "> Our next step is towards to try to identify which of this features would be resonable responsible for the survival or not of the passenger. "
   ]
  },
  {
   "cell_type": "code",
   "execution_count": 3,
   "metadata": {
    "execution": {
     "iopub.execute_input": "2021-02-25T18:10:03.972709Z",
     "iopub.status.busy": "2021-02-25T18:10:03.972101Z",
     "iopub.status.idle": "2021-02-25T18:10:04.939997Z",
     "shell.execute_reply": "2021-02-25T18:10:04.939282Z"
    },
    "papermill": {
     "duration": 0.990417,
     "end_time": "2021-02-25T18:10:04.940153",
     "exception": false,
     "start_time": "2021-02-25T18:10:03.949736",
     "status": "completed"
    },
    "tags": []
   },
   "outputs": [
    {
     "data": {
      "image/png": "[encoded data removed]",
      "text/plain": [
       "<Figure size 432x432 with 1 Axes>"
      ]
     },
     "metadata": {
      "needs_background": "light"
     },
     "output_type": "display_data"
    },
    {
     "data": {
      "image/png": "[encoded data removed]",
      "text/plain": [
       "<Figure size 432x432 with 1 Axes>"
      ]
     },
     "metadata": {
      "needs_background": "light"
     },
     "output_type": "display_data"
    },
    {
     "data": {
      "image/png": "[encoded data removed]",
      "text/plain": [
       "<Figure size 432x432 with 1 Axes>"
      ]
     },
     "metadata": {
      "needs_background": "light"
     },
     "output_type": "display_data"
    },
    {
     "data": {
      "image/png": "[encoded data removed]",
      "text/plain": [
       "<Figure size 432x432 with 1 Axes>"
      ]
     },
     "metadata": {
      "needs_background": "light"
     },
     "output_type": "display_data"
    },
    {
     "data": {
      "image/png": "[encoded data removed]",
      "text/plain": [
       "<Figure size 432x432 with 1 Axes>"
      ]
     },
     "metadata": {
      "needs_background": "light"
     },
     "output_type": "display_data"
    },
    {
     "data": {
      "image/png": "[encoded data removed]",
      "text/plain": [
       "<Figure size 432x432 with 1 Axes>"
      ]
     },
     "metadata": {
      "needs_background": "light"
     },
     "output_type": "display_data"
    }
   ],
   "source": [
    "from matplotlib import pyplot as plt\n",
    "%matplotlib inline\n",
    "\n",
    "numeric_features = [\"PassengerId\",\"Pclass\",\"Age\",\"SibSp\",\"Parch\", \"Fare\" ]\n",
    "for col in numeric_features:\n",
    "    train.boxplot(column=col, by=\"Survived\", figsize=(6,6))\n",
    "    plt.title(col)\n",
    "plt.show()"
   ]
  },
  {
   "cell_type": "markdown",
   "metadata": {
    "papermill": {
     "duration": 0.01867,
     "end_time": "2021-02-25T18:10:04.978233",
     "exception": false,
     "start_time": "2021-02-25T18:10:04.959563",
     "status": "completed"
    },
    "tags": []
   },
   "source": [
    "> For some of the features, there's a noticable difference in the distribution for each label value. In particular, **Fare**, **Pclass**, and **Age** show markedly different distributions for survived passengers than for non-survived passengers. It is also clear that birth sex played impact wether a person survived or not. In order to feed the sex feature into the model we first need to encode it."
   ]
  },
  {
   "cell_type": "code",
   "execution_count": 4,
   "metadata": {
    "execution": {
     "iopub.execute_input": "2021-02-25T18:10:05.030969Z",
     "iopub.status.busy": "2021-02-25T18:10:05.029962Z",
     "iopub.status.idle": "2021-02-25T18:10:05.041520Z",
     "shell.execute_reply": "2021-02-25T18:10:05.041988Z"
    },
    "papermill": {
     "duration": 0.045267,
     "end_time": "2021-02-25T18:10:05.042160",
     "exception": false,
     "start_time": "2021-02-25T18:10:04.996893",
     "status": "completed"
    },
    "tags": []
   },
   "outputs": [
    {
     "data": {
      "text/html": [
       "<div>\n",
       "<style scoped>\n",
       "    .dataframe tbody tr th:only-of-type {\n",
       "        vertical-align: middle;\n",
       "    }\n",
       "\n",
       "    .dataframe tbody tr th {\n",
       "        vertical-align: top;\n",
       "    }\n",
       "\n",
       "    .dataframe thead th {\n",
       "        text-align: right;\n",
       "    }\n",
       "</style>\n",
       "<table border=\"1\" class=\"dataframe\">\n",
       "  <thead>\n",
       "    <tr style=\"text-align: right;\">\n",
       "      <th></th>\n",
       "      <th>PassengerId</th>\n",
       "      <th>Survived</th>\n",
       "      <th>Pclass</th>\n",
       "      <th>Name</th>\n",
       "      <th>Sex</th>\n",
       "      <th>Age</th>\n",
       "      <th>SibSp</th>\n",
       "      <th>Parch</th>\n",
       "      <th>Ticket</th>\n",
       "      <th>Fare</th>\n",
       "      <th>Cabin</th>\n",
       "      <th>Embarked</th>\n",
       "      <th>Sex_encode</th>\n",
       "    </tr>\n",
       "  </thead>\n",
       "  <tbody>\n",
       "    <tr>\n",
       "      <th>0</th>\n",
       "      <td>1</td>\n",
       "      <td>0</td>\n",
       "      <td>3</td>\n",
       "      <td>Braund, Mr. Owen Harris</td>\n",
       "      <td>male</td>\n",
       "      <td>22.0</td>\n",
       "      <td>1</td>\n",
       "      <td>0</td>\n",
       "      <td>A/5 21171</td>\n",
       "      <td>7.2500</td>\n",
       "      <td>NaN</td>\n",
       "      <td>S</td>\n",
       "      <td>1</td>\n",
       "    </tr>\n",
       "    <tr>\n",
       "      <th>1</th>\n",
       "      <td>2</td>\n",
       "      <td>1</td>\n",
       "      <td>1</td>\n",
       "      <td>Cumings, Mrs. John Bradley (Florence Briggs Th...</td>\n",
       "      <td>female</td>\n",
       "      <td>38.0</td>\n",
       "      <td>1</td>\n",
       "      <td>0</td>\n",
       "      <td>PC 17599</td>\n",
       "      <td>71.2833</td>\n",
       "      <td>C85</td>\n",
       "      <td>C</td>\n",
       "      <td>0</td>\n",
       "    </tr>\n",
       "    <tr>\n",
       "      <th>2</th>\n",
       "      <td>3</td>\n",
       "      <td>1</td>\n",
       "      <td>3</td>\n",
       "      <td>Heikkinen, Miss. Laina</td>\n",
       "      <td>female</td>\n",
       "      <td>26.0</td>\n",
       "      <td>0</td>\n",
       "      <td>0</td>\n",
       "      <td>STON/O2. 3101282</td>\n",
       "      <td>7.9250</td>\n",
       "      <td>NaN</td>\n",
       "      <td>S</td>\n",
       "      <td>0</td>\n",
       "    </tr>\n",
       "    <tr>\n",
       "      <th>3</th>\n",
       "      <td>4</td>\n",
       "      <td>1</td>\n",
       "      <td>1</td>\n",
       "      <td>Futrelle, Mrs. Jacques Heath (Lily May Peel)</td>\n",
       "      <td>female</td>\n",
       "      <td>35.0</td>\n",
       "      <td>1</td>\n",
       "      <td>0</td>\n",
       "      <td>113803</td>\n",
       "      <td>53.1000</td>\n",
       "      <td>C123</td>\n",
       "      <td>S</td>\n",
       "      <td>0</td>\n",
       "    </tr>\n",
       "    <tr>\n",
       "      <th>4</th>\n",
       "      <td>5</td>\n",
       "      <td>0</td>\n",
       "      <td>3</td>\n",
       "      <td>Allen, Mr. William Henry</td>\n",
       "      <td>male</td>\n",
       "      <td>35.0</td>\n",
       "      <td>0</td>\n",
       "      <td>0</td>\n",
       "      <td>373450</td>\n",
       "      <td>8.0500</td>\n",
       "      <td>NaN</td>\n",
       "      <td>S</td>\n",
       "      <td>1</td>\n",
       "    </tr>\n",
       "  </tbody>\n",
       "</table>\n",
       "</div>"
      ],
      "text/plain": [
       "   PassengerId  Survived  Pclass  \\\n",
       "0            1         0       3   \n",
       "1            2         1       1   \n",
       "2            3         1       3   \n",
       "3            4         1       1   \n",
       "4            5         0       3   \n",
       "\n",
       "                                                Name     Sex   Age  SibSp  \\\n",
       "0                            Braund, Mr. Owen Harris    male  22.0      1   \n",
       "1  Cumings, Mrs. John Bradley (Florence Briggs Th...  female  38.0      1   \n",
       "2                             Heikkinen, Miss. Laina  female  26.0      0   \n",
       "3       Futrelle, Mrs. Jacques Heath (Lily May Peel)  female  35.0      1   \n",
       "4                           Allen, Mr. William Henry    male  35.0      0   \n",
       "\n",
       "   Parch            Ticket     Fare Cabin Embarked  Sex_encode  \n",
       "0      0         A/5 21171   7.2500   NaN        S           1  \n",
       "1      0          PC 17599  71.2833   C85        C           0  \n",
       "2      0  STON/O2. 3101282   7.9250   NaN        S           0  \n",
       "3      0            113803  53.1000  C123        S           0  \n",
       "4      0            373450   8.0500   NaN        S           1  "
      ]
     },
     "execution_count": 4,
     "metadata": {},
     "output_type": "execute_result"
    }
   ],
   "source": [
    "# use a for loop to perfom the encoding on both dataframes\n",
    "for df in [train,test]:\n",
    "    df['Sex_encode']=df['Sex'].map({'male':1,'female':0})\n",
    "    \n",
    "train.head()"
   ]
  },
  {
   "cell_type": "markdown",
   "metadata": {
    "papermill": {
     "duration": 0.019184,
     "end_time": "2021-02-25T18:10:05.082241",
     "exception": false,
     "start_time": "2021-02-25T18:10:05.063057",
     "status": "completed"
    },
    "tags": []
   },
   "source": [
    "## 2. Preprocessing/Data cleaning <a class=\"anchor\" id=\"2\"></a>\n",
    "### 2.1. Feature selection <a class=\"anchor\" id=\"2.1\"></a>\n",
    "> We can see that we have a new column **Sex_encode** on our dataframes. After performing the encode, we need to properly handle the missing values, if we got any. However, now that we already determined which features are gonna be usefull for us, we can drop the ones we are not gonna use, in order to have a concise dataframe."
   ]
  },
  {
   "cell_type": "code",
   "execution_count": 5,
   "metadata": {
    "execution": {
     "iopub.execute_input": "2021-02-25T18:10:05.125548Z",
     "iopub.status.busy": "2021-02-25T18:10:05.124613Z",
     "iopub.status.idle": "2021-02-25T18:10:05.136350Z",
     "shell.execute_reply": "2021-02-25T18:10:05.135884Z"
    },
    "papermill": {
     "duration": 0.034151,
     "end_time": "2021-02-25T18:10:05.136485",
     "exception": false,
     "start_time": "2021-02-25T18:10:05.102334",
     "status": "completed"
    },
    "tags": []
   },
   "outputs": [
    {
     "data": {
      "text/plain": [
       "Index(['PassengerId', 'Survived', 'Pclass', 'Age', 'Sex_encode'], dtype='object')"
      ]
     },
     "execution_count": 5,
     "metadata": {},
     "output_type": "execute_result"
    }
   ],
   "source": [
    "# dropping apparently unnecessary features \n",
    "for df in [train,test]:\n",
    "    df.drop(['Name','SibSp','Parch', 'Ticket', 'Fare', 'Cabin', 'Embarked', \"Sex\"],axis=1, inplace=True)\n",
    "# testing if the dropping columns worked\n",
    "train.columns"
   ]
  },
  {
   "cell_type": "markdown",
   "metadata": {
    "papermill": {
     "duration": 0.019566,
     "end_time": "2021-02-25T18:10:05.175700",
     "exception": false,
     "start_time": "2021-02-25T18:10:05.156134",
     "status": "completed"
    },
    "tags": []
   },
   "source": [
    "### 2.2. Handling missing/null values <a class=\"anchor\" id=\"2.2\"></a>\n",
    "> Now let's check if we have any missing value in our remaining dataframe"
   ]
  },
  {
   "cell_type": "code",
   "execution_count": 6,
   "metadata": {
    "execution": {
     "iopub.execute_input": "2021-02-25T18:10:05.227165Z",
     "iopub.status.busy": "2021-02-25T18:10:05.226419Z",
     "iopub.status.idle": "2021-02-25T18:10:05.230188Z",
     "shell.execute_reply": "2021-02-25T18:10:05.229319Z"
    },
    "papermill": {
     "duration": 0.034829,
     "end_time": "2021-02-25T18:10:05.230334",
     "exception": false,
     "start_time": "2021-02-25T18:10:05.195505",
     "status": "completed"
    },
    "tags": []
   },
   "outputs": [
    {
     "name": "stdout",
     "output_type": "stream",
     "text": [
      "------------------------ TRAIN DATAFRAME MISSING VALUES COUNT ------------------------\n",
      "\n",
      "PassengerId      0\n",
      "Survived         0\n",
      "Pclass           0\n",
      "Age            177\n",
      "Sex_encode       0\n",
      "dtype: int64\n",
      "------------------------ TEST DATAFRAME MISSING VALUES COUNT ------------------------\n",
      "\n",
      "PassengerId     0\n",
      "Pclass          0\n",
      "Age            86\n",
      "Sex_encode      0\n",
      "dtype: int64\n",
      "TRAIN DATAFRAME MISSING VALUES : 19.87%\n",
      "TEST DATAFRAME MISSING VALUES : 20.57%\n"
     ]
    }
   ],
   "source": [
    "# inspecting the data for missing values\n",
    "print(\"------------------------ TRAIN DATAFRAME MISSING VALUES COUNT ------------------------\\n\")\n",
    "print(train.isnull().sum())\n",
    "print(\"------------------------ TEST DATAFRAME MISSING VALUES COUNT ------------------------\\n\")\n",
    "print(test.isnull().sum())\n",
    "\n",
    "# percentage of missing data on Age column on each dataframe\n",
    "print(f\"TRAIN DATAFRAME MISSING VALUES : {round(train['Age'].isnull().sum()*100/train.shape[0], 2)}%\")\n",
    "print(f\"TEST DATAFRAME MISSING VALUES : {round(test['Age'].isnull().sum()*100/test.shape[0],2)}%\")"
   ]
  },
  {
   "cell_type": "markdown",
   "metadata": {
    "papermill": {
     "duration": 0.020084,
     "end_time": "2021-02-25T18:10:05.270687",
     "exception": false,
     "start_time": "2021-02-25T18:10:05.250603",
     "status": "completed"
    },
    "tags": []
   },
   "source": [
    "\n",
    "> We can see that we have missing values for \"Age\" feature on both dataframes. If we use the *.shape\\[0\\]* method we can see that we have 891 and 418 samples on train and test dataframes, respectively. If we just delete the missing values, we would be erasing around 20% of the information, which is could be critical for our model performance. In other hand, we can impute the missing data with another value.\n",
    "On [jlawman notebook](https://www.kaggle.com/jlawman/complete-beginner-your-first-titanic-submission), he assumes that all passengers without an registered age were babies, imputing the missing values with '0'. However, assuming a new value like zero could cause the model to be skewed in that direction. The best approach would be to filled the missing values with the mean.\n"
   ]
  },
  {
   "cell_type": "code",
   "execution_count": 7,
   "metadata": {
    "execution": {
     "iopub.execute_input": "2021-02-25T18:10:05.327580Z",
     "iopub.status.busy": "2021-02-25T18:10:05.326920Z",
     "iopub.status.idle": "2021-02-25T18:10:05.330903Z",
     "shell.execute_reply": "2021-02-25T18:10:05.331368Z"
    },
    "papermill": {
     "duration": 0.040159,
     "end_time": "2021-02-25T18:10:05.331568",
     "exception": false,
     "start_time": "2021-02-25T18:10:05.291409",
     "status": "completed"
    },
    "tags": []
   },
   "outputs": [
    {
     "name": "stdout",
     "output_type": "stream",
     "text": [
      "------------------------ TRAIN DATAFRAME MISSING VALUES COUNT ------------------------\n",
      "\n",
      "<class 'pandas.core.frame.DataFrame'>\n",
      "RangeIndex: 891 entries, 0 to 890\n",
      "Data columns (total 5 columns):\n",
      " #   Column       Non-Null Count  Dtype  \n",
      "---  ------       --------------  -----  \n",
      " 0   PassengerId  891 non-null    int64  \n",
      " 1   Survived     891 non-null    int64  \n",
      " 2   Pclass       891 non-null    int64  \n",
      " 3   Age          891 non-null    float64\n",
      " 4   Sex_encode   891 non-null    int64  \n",
      "dtypes: float64(1), int64(4)\n",
      "memory usage: 34.9 KB\n",
      "None\n"
     ]
    }
   ],
   "source": [
    "# saving this state of the dataset in case we decide for a new approach\n",
    "train_cp = train\n",
    "test_cp = test\n",
    "\n",
    "train.fillna(train.Age.mean(), inplace=True)\n",
    "test.fillna(test.Age.mean(), inplace=True)\n",
    "# checking if the transformations worked\n",
    "print(\"------------------------ TRAIN DATAFRAME MISSING VALUES COUNT ------------------------\\n\")\n",
    "print(train.info())"
   ]
  },
  {
   "cell_type": "markdown",
   "metadata": {
    "papermill": {
     "duration": 0.020927,
     "end_time": "2021-02-25T18:10:05.373398",
     "exception": false,
     "start_time": "2021-02-25T18:10:05.352471",
     "status": "completed"
    },
    "tags": []
   },
   "source": [
    "## 3. Model selection <a class=\"anchor\" id=\"3\"></a>\n",
    "> It is time to decide which is the best classification model for this problem. One alterative would be to use [TPOT](http://epistasislab.github.io/tpot/) to find the best pipeline for this data. Although, in oder to find the best pipeline for this dataset, we need the label for the test dataset, which was not provided. We can then try a few classification models, and check which on performed best based on the accuracy score. In order to get an accuracy score, we will submit the predictions generated by each model on Kaggle, which will then provide us with the accuracy score.\n",
    "\n",
    "> The models I will use in this notebook are:\n",
    "* logistic regression;\n",
    "* support vector machine - SVM;\n",
    "* random forest classifier.\n"
   ]
  },
  {
   "cell_type": "markdown",
   "metadata": {
    "papermill": {
     "duration": 0.020496,
     "end_time": "2021-02-25T18:10:05.414394",
     "exception": false,
     "start_time": "2021-02-25T18:10:05.393898",
     "status": "completed"
    },
    "tags": []
   },
   "source": [
    "As we will need to generate a prediction file for each model,I create a function, based on [ref. notebook](https://www.kaggle.com/jlawman/complete-beginner-your-first-titanic-submission), to automate this part of the workflow."
   ]
  },
  {
   "cell_type": "code",
   "execution_count": 8,
   "metadata": {
    "execution": {
     "iopub.execute_input": "2021-02-25T18:10:05.461539Z",
     "iopub.status.busy": "2021-02-25T18:10:05.460901Z",
     "iopub.status.idle": "2021-02-25T18:10:05.464516Z",
     "shell.execute_reply": "2021-02-25T18:10:05.463892Z"
    },
    "papermill": {
     "duration": 0.029526,
     "end_time": "2021-02-25T18:10:05.464662",
     "exception": false,
     "start_time": "2021-02-25T18:10:05.435136",
     "status": "completed"
    },
    "tags": []
   },
   "outputs": [],
   "source": [
    "def generate_submission_file(predictions, model_name=''):\n",
    "    #building the submission file\n",
    "    submission = pd.DataFrame({'PassengerId':test['PassengerId'],'Survived':predictions})\n",
    "    #Visualize the first 5 rows\n",
    "    submission.head()\n",
    "    #Convert DataFrame to a csv file that can be uploaded\n",
    "    #This is saved in the same directory as your notebook\n",
    "    filename = 'TitanicPredictions'+model_name.capitalize()+'.csv'\n",
    "    submission.to_csv(filename,index=False)\n",
    "    print('Saved file: ' + filename)"
   ]
  },
  {
   "cell_type": "markdown",
   "metadata": {
    "papermill": {
     "duration": 0.020807,
     "end_time": "2021-02-25T18:10:05.506543",
     "exception": false,
     "start_time": "2021-02-25T18:10:05.485736",
     "status": "completed"
    },
    "tags": []
   },
   "source": [
    "### 3.1. Logistic regression <a class=\"anchor\" id=\"3.1\"></a>\n",
    "\n",
    "[reference for the logreg module on sklearn](https://scikit-learn.org/stable/modules/generated/sklearn.linear_model.LogisticRegression.html) "
   ]
  },
  {
   "cell_type": "code",
   "execution_count": 9,
   "metadata": {
    "execution": {
     "iopub.execute_input": "2021-02-25T18:10:05.554771Z",
     "iopub.status.busy": "2021-02-25T18:10:05.554156Z",
     "iopub.status.idle": "2021-02-25T18:10:06.612676Z",
     "shell.execute_reply": "2021-02-25T18:10:06.612171Z"
    },
    "papermill": {
     "duration": 1.085014,
     "end_time": "2021-02-25T18:10:06.612838",
     "exception": false,
     "start_time": "2021-02-25T18:10:05.527824",
     "status": "completed"
    },
    "tags": []
   },
   "outputs": [
    {
     "name": "stdout",
     "output_type": "stream",
     "text": [
      "Saved file: TitanicPredictionsLogreg.csv\n"
     ]
    }
   ],
   "source": [
    "# importing the logreg from sklearn\n",
    "from sklearn.linear_model import LogisticRegression\n",
    "\n",
    "# Separating the label and the features on the train dataset\n",
    "X_train = train.drop('Survived', axis=1)\n",
    "y_train = train.Survived\n",
    "\n",
    "#Logistic regression\n",
    "model = LogisticRegression(solver='liblinear', random_state=42)\n",
    "model.fit(X_train, y_train)\n",
    "predictions = model.predict(test)\n",
    "\n",
    "# creating the prediction file for the logistic regression\n",
    "generate_submission_file(predictions, model_name='LogReg')"
   ]
  },
  {
   "cell_type": "markdown",
   "metadata": {
    "papermill": {
     "duration": 0.020777,
     "end_time": "2021-02-25T18:10:06.654238",
     "exception": false,
     "start_time": "2021-02-25T18:10:06.633461",
     "status": "completed"
    },
    "tags": []
   },
   "source": [
    "### 3.2. Support vector machine - SVM <a class=\"anchor\" id=\"3.2\"></a>\n",
    "\n",
    "[reference for the SVM module on sklearn](https://scikit-learn.org/stable/modules/svm.html)"
   ]
  },
  {
   "cell_type": "code",
   "execution_count": 10,
   "metadata": {
    "execution": {
     "iopub.execute_input": "2021-02-25T18:10:06.703302Z",
     "iopub.status.busy": "2021-02-25T18:10:06.702679Z",
     "iopub.status.idle": "2021-02-25T18:10:06.745679Z",
     "shell.execute_reply": "2021-02-25T18:10:06.745093Z"
    },
    "papermill": {
     "duration": 0.070787,
     "end_time": "2021-02-25T18:10:06.745860",
     "exception": false,
     "start_time": "2021-02-25T18:10:06.675073",
     "status": "completed"
    },
    "tags": []
   },
   "outputs": [
    {
     "name": "stdout",
     "output_type": "stream",
     "text": [
      "Saved file: TitanicPredictionsSvm.csv\n"
     ]
    }
   ],
   "source": [
    "from sklearn import svm\n",
    "model = svm.SVC()\n",
    "model.fit(X_train,y_train)\n",
    "predictions = model.predict(test)\n",
    "generate_submission_file(predictions, 'SVM')"
   ]
  },
  {
   "cell_type": "markdown",
   "metadata": {
    "papermill": {
     "duration": 0.020982,
     "end_time": "2021-02-25T18:10:06.788135",
     "exception": false,
     "start_time": "2021-02-25T18:10:06.767153",
     "status": "completed"
    },
    "tags": []
   },
   "source": [
    "### 3.3. Random forest classifier <a class=\"anchor\" id=\"3.3\"></a>\n",
    "\n",
    "[reference for the random forest classifier module on sklearn](https://scikit-learn.org/stable/modules/generated/sklearn.ensemble.RandomForestClassifier.html?highlight=random%20forest%20classifier#sklearn.ensemble.RandomForestClassifier) "
   ]
  },
  {
   "cell_type": "code",
   "execution_count": 11,
   "metadata": {
    "execution": {
     "iopub.execute_input": "2021-02-25T18:10:06.836111Z",
     "iopub.status.busy": "2021-02-25T18:10:06.835436Z",
     "iopub.status.idle": "2021-02-25T18:10:07.224783Z",
     "shell.execute_reply": "2021-02-25T18:10:07.225316Z"
    },
    "papermill": {
     "duration": 0.416155,
     "end_time": "2021-02-25T18:10:07.225491",
     "exception": false,
     "start_time": "2021-02-25T18:10:06.809336",
     "status": "completed"
    },
    "tags": []
   },
   "outputs": [
    {
     "name": "stdout",
     "output_type": "stream",
     "text": [
      "Saved file: TitanicPredictionsRfc.csv\n"
     ]
    }
   ],
   "source": [
    "from sklearn.ensemble import RandomForestClassifier\n",
    "model = RandomForestClassifier(random_state = 42)\n",
    "model.fit(X_train, y_train)\n",
    "predictions = model.predict(test)\n",
    "generate_submission_file(predictions, 'rfc')"
   ]
  },
  {
   "cell_type": "markdown",
   "metadata": {
    "papermill": {
     "duration": 0.022123,
     "end_time": "2021-02-25T18:10:07.270290",
     "exception": false,
     "start_time": "2021-02-25T18:10:07.248167",
     "status": "completed"
    },
    "tags": []
   },
   "source": [
    "## 4. Results <a class=\"anchor\" id=\"4\"></a>\n",
    "\n",
    "> After submitting each prediction file generated previously, the accuracy scores were as presented:\n",
    "\n",
    "* Logistic regression -> 0.75837\n",
    "\n",
    "* Support vector machine -> 0.62200\n",
    "\n",
    "* Random forest classifier -> 0.75119\n",
    "\n",
    "> According to Kaggle, the accuracy score the percentage of correct labels predicted by model based on the test dataset labels (ground truth). For example, a score of 0.7  indicates that the model predicted Titanic survival correctly for 70% of people. Apart from the SVM model, all of then had a score above 70%. We also have to take into consideration that all three models were implemented using default setting and a parameters tuning could increase the accuracy of the models. However, in this case, we can notice that the Logistic regression model performed better than the other two models, beign the best choice, in this scenario, to predict survivers for the Titanic disaster.\n"
   ]
  }
 ],
 "metadata": {
  "kernelspec": {
   "display_name": "Python 3",
   "language": "python",
   "name": "python3"
  },
  "language_info": {
   "codemirror_mode": {
    "name": "ipython",
    "version": 3
   },
   "file_extension": ".py",
   "mimetype": "text/x-python",
   "name": "python",
   "nbconvert_exporter": "python",
   "pygments_lexer": "ipython3",
   "version": "3.7.9"
  },
  "papermill": {
   "default_parameters": {},
   "duration": 9.527393,
   "end_time": "2021-02-25T18:10:07.902334",
   "environment_variables": {},
   "exception": null,
   "input_path": "__notebook__.ipynb",
   "output_path": "__notebook__.ipynb",
   "parameters": {},
   "start_time": "2021-02-25T18:09:58.374941",
   "version": "2.2.2"
  }
 },
 "nbformat": 4,
 "nbformat_minor": 4
}
