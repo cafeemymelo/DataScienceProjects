{
 "cells": [
  {
   "cell_type": "markdown",
   "metadata": {},
   "source": [
    "## This file contains the code for [Kaggle's Titanic prediction competition](https://www.kaggle.com/c/titanic/overview/description) where the goal was to predict if a passanger has survived the sinking or not (Classification problem). \n",
    "\n",
    "\n",
    "### Table of Contents\n",
    "\n",
    "* [1 - Initial steps](#1)\n",
    "    * [1.1 - Importing the data](#1.1)\n",
    "    * [1.2 - Exploring the dataset](#1.2)\n",
    "        * [Section 1.2.1](#section_1_2_1)\n",
    "        * [Section 1.2.2](#section_1_2_2)\n",
    "        * [Section 1.2.3](#section_1_2_3)\n",
    "* [Chapter 2](#chapter2)\n",
    "    * [Section 2.1](#section_2_1)\n",
    "    * [Section 2.2](#section_2_2)\n",
    "\n"
   ]
  },
  {
   "cell_type": "markdown",
   "metadata": {},
   "source": [
    "## 1- Initial steps <a class=\"anchor\" id=\"1\"></a>\n",
    "### 1.1 - Importing the data <a class=\"anchor\" id=\"1.1\"></a> \n",
    "The dataset available for the competition was already divided into [test](https://www.kaggle.com/c/titanic/data?select=test.csv) and [train](https://www.kaggle.com/c/titanic/data?select=train.csv) samples. The first step is to import both dataset into the notebook into a [pandas dataframe](https://pandas.pydata.org/pandas-docs/stable/reference/api/pandas.DataFrame.html?highlight=dataframe#pandas.DataFrame)."
   ]
  },
  {
   "cell_type": "code",
   "execution_count": 1,
   "metadata": {},
   "outputs": [
    {
     "name": "stdout",
     "output_type": "stream",
     "text": [
      "   PassengerId  Survived  Pclass  \\\n",
      "0            1         0       3   \n",
      "1            2         1       1   \n",
      "2            3         1       3   \n",
      "3            4         1       1   \n",
      "4            5         0       3   \n",
      "\n",
      "                                                Name     Sex   Age  SibSp  \\\n",
      "0                            Braund, Mr. Owen Harris    male  22.0      1   \n",
      "1  Cumings, Mrs. John Bradley (Florence Briggs Th...  female  38.0      1   \n",
      "2                             Heikkinen, Miss. Laina  female  26.0      0   \n",
      "3       Futrelle, Mrs. Jacques Heath (Lily May Peel)  female  35.0      1   \n",
      "4                           Allen, Mr. William Henry    male  35.0      0   \n",
      "\n",
      "   Parch            Ticket     Fare Cabin Embarked  \n",
      "0      0         A/5 21171   7.2500   NaN        S  \n",
      "1      0          PC 17599  71.2833   C85        C  \n",
      "2      0  STON/O2. 3101282   7.9250   NaN        S  \n",
      "3      0            113803  53.1000  C123        S  \n",
      "4      0            373450   8.0500   NaN        S  \n"
     ]
    }
   ],
   "source": [
    "# import pandas\n",
    "import pandas as pd\n",
    "\n",
    "#importing the train and test dataset\n",
    "train = pd.read_csv('data/train.csv', sep=',')\n",
    "\n",
    "#Print the first rows to see if the dataset was imported correctly\n",
    "print(train.head())"
   ]
  },
  {
   "cell_type": "code",
   "execution_count": 2,
   "metadata": {},
   "outputs": [
    {
     "name": "stdout",
     "output_type": "stream",
     "text": [
      "   PassengerId  Pclass                                          Name     Sex  \\\n",
      "0          892       3                              Kelly, Mr. James    male   \n",
      "1          893       3              Wilkes, Mrs. James (Ellen Needs)  female   \n",
      "2          894       2                     Myles, Mr. Thomas Francis    male   \n",
      "3          895       3                              Wirz, Mr. Albert    male   \n",
      "4          896       3  Hirvonen, Mrs. Alexander (Helga E Lindqvist)  female   \n",
      "\n",
      "    Age  SibSp  Parch   Ticket     Fare Cabin Embarked  \n",
      "0  34.5      0      0   330911   7.8292   NaN        Q  \n",
      "1  47.0      1      0   363272   7.0000   NaN        S  \n",
      "2  62.0      0      0   240276   9.6875   NaN        Q  \n",
      "3  27.0      0      0   315154   8.6625   NaN        S  \n",
      "4  22.0      1      1  3101298  12.2875   NaN        S  \n"
     ]
    }
   ],
   "source": [
    "#import the test dataset\n",
    "test = pd.read_csv('data/test.csv', sep=',')\n",
    "\n",
    "#Print the first rows to see if the dataset was imported correctly\n",
    "print(test.head())"
   ]
  },
  {
   "cell_type": "markdown",
   "metadata": {},
   "source": [
    "### 1.2 - Exploring the dataset <a class=\"anchor\" id=\"1.2\"></a>\n",
    "That dataset was successfully imported into the train and test dataset. Now we can begin exploring the dataset. A good practice is to build a data dictionary so we can others can clearly understand what each column in our dataset is representing. Before building our data dictionary, let's see which columns we have in both datasets. We can use the [.columns](https://pandas.pydata.org/pandas-docs/stable/reference/api/pandas.DataFrame.columns.html?highlight=columns#pandas.DataFrame.columns) or [.info](https://pandas.pydata.org/pandas-docs/stable/reference/api/pandas.DataFrame.info.html) method from pandas."
   ]
  },
  {
   "cell_type": "code",
   "execution_count": 3,
   "metadata": {},
   "outputs": [
    {
     "name": "stdout",
     "output_type": "stream",
     "text": [
      "train dataset columns:  ['PassengerId', 'Survived', 'Pclass', 'Name', 'Sex', 'Age', 'SibSp', 'Parch', 'Ticket', 'Fare', 'Cabin', 'Embarked']\n",
      "test dataset columns:  ['PassengerId', 'Pclass', 'Name', 'Sex', 'Age', 'SibSp', 'Parch', 'Ticket', 'Fare', 'Cabin', 'Embarked']\n"
     ]
    }
   ],
   "source": [
    "columns_train = list(train.columns)\n",
    "columns_test = list(test.columns)\n",
    "\n",
    "print(\"train dataset columns: \", columns_train)\n",
    "print(\"test dataset columns: \", columns_test)"
   ]
  },
  {
   "cell_type": "code",
   "execution_count": 4,
   "metadata": {},
   "outputs": [
    {
     "name": "stdout",
     "output_type": "stream",
     "text": [
      "Train dataset info:\n",
      "<class 'pandas.core.frame.DataFrame'>\n",
      "RangeIndex: 891 entries, 0 to 890\n",
      "Data columns (total 12 columns):\n",
      "PassengerId    891 non-null int64\n",
      "Survived       891 non-null int64\n",
      "Pclass         891 non-null int64\n",
      "Name           891 non-null object\n",
      "Sex            891 non-null object\n",
      "Age            714 non-null float64\n",
      "SibSp          891 non-null int64\n",
      "Parch          891 non-null int64\n",
      "Ticket         891 non-null object\n",
      "Fare           891 non-null float64\n",
      "Cabin          204 non-null object\n",
      "Embarked       889 non-null object\n",
      "dtypes: float64(2), int64(5), object(5)\n",
      "memory usage: 83.7+ KB\n",
      "None\n",
      "\n",
      "\n",
      "Test dataset info:\n",
      "<class 'pandas.core.frame.DataFrame'>\n",
      "RangeIndex: 418 entries, 0 to 417\n",
      "Data columns (total 11 columns):\n",
      "PassengerId    418 non-null int64\n",
      "Pclass         418 non-null int64\n",
      "Name           418 non-null object\n",
      "Sex            418 non-null object\n",
      "Age            332 non-null float64\n",
      "SibSp          418 non-null int64\n",
      "Parch          418 non-null int64\n",
      "Ticket         418 non-null object\n",
      "Fare           417 non-null float64\n",
      "Cabin          91 non-null object\n",
      "Embarked       418 non-null object\n",
      "dtypes: float64(2), int64(4), object(5)\n",
      "memory usage: 36.0+ KB\n",
      "None\n"
     ]
    }
   ],
   "source": [
    "print(\"Train dataset info:\")\n",
    "print(train.info())\n",
    "print(\"\\n\\nTest dataset info:\")\n",
    "print(test.info())"
   ]
  },
  {
   "cell_type": "markdown",
   "metadata": {},
   "source": [
    "We can see that for the test dataset the column 'Survived' (target) was not provided. This is because our model has to predict the outcome. Usually, the ground truth, or the target column, is provided so we can measure our model against the unseen data, but for the Kaggle competition, normally we submit our prediction and they would compare our measures against the ground truth and rate the performance of your model using the appropriate metrics. That being said, let's now build our data dictionary. I will divide the dictionary into features(columns) which are the measured inputs of the problem domain, the independdent variables, and target which is the dependent variable or the measure we're trying to model or forecast [ref](https://datascience.stackexchange.com/questions/38188/classifying-data-in-orange-whats-the-difference-between-features-target-va).\n",
    "\n",
    "------\n",
    "**<font color='blue'>Target</font>**:\n",
    "\n",
    "| **Column** | **Description** | **Key** | **Type** |\n",
    "| :-: | :-: | :-: | :-: |\n",
    "| *Survived* | If the passanger had survived or not | 0 = No; 1 = Yes | int64 |\n",
    "\n",
    "**<font color='red'>Features</font>**:\n",
    "\n",
    "| **Column** | **Description** | **Key** | **Type** |\n",
    "| :-: | :-: | :-: | :-: |\n",
    "| *PassengerId* | Unique Id to identify a passenger |  | int64 |\n",
    "| *Pclass* | Ticket class | 1 = 1st, 2 = 2nd, 3 = 3rd | int64 |\n",
    "| *Name* | Passanger Name |  | object |\n",
    "| *Sex* | Passenger biologic sex | Male, Female | object |\n",
    "| *Age* | Passenger age |  | float64 |\n",
    "| *SibSp* | Number of siblings / spouses aboard the Titanic |  | int64 |\n",
    "| *Parch* | Number of parents / children aboard the Titanic |  | int64 |\n",
    "| *Ticket* | Ticket number |  | object |\n",
    "| *Fare* | Passenger fare |  | float64 |\n",
    "| *Cabin* | Cabin number |  | object |\n",
    "| *Embarked* | Port of embarkation | C = Cherbourg, Q = Queenstown, S = Southampton | object |\n",
    "\n",
    "Our next step is towards to try to identify which of this features would be resonable responsible for the survival or not of the passenger. "
   ]
  },
  {
   "cell_type": "code",
   "execution_count": 5,
   "metadata": {},
   "outputs": [
    {
     "data": {
      "image/png": "[encoded data removed]",
      "text/plain": [
       "<Figure size 432x432 with 1 Axes>"
      ]
     },
     "metadata": {
      "needs_background": "light"
     },
     "output_type": "display_data"
    },
    {
     "data": {
      "image/png": "[encoded data removed]",
      "text/plain": [
       "<Figure size 432x432 with 1 Axes>"
      ]
     },
     "metadata": {
      "needs_background": "light"
     },
     "output_type": "display_data"
    },
    {
     "data": {
      "image/png": "[encoded data removed]",
      "text/plain": [
       "<Figure size 432x432 with 1 Axes>"
      ]
     },
     "metadata": {
      "needs_background": "light"
     },
     "output_type": "display_data"
    },
    {
     "data": {
      "image/png": "[encoded data removed]",
      "text/plain": [
       "<Figure size 432x432 with 1 Axes>"
      ]
     },
     "metadata": {
      "needs_background": "light"
     },
     "output_type": "display_data"
    },
    {
     "data": {
      "image/png": "[encoded data removed]",
      "text/plain": [
       "<Figure size 432x432 with 1 Axes>"
      ]
     },
     "metadata": {
      "needs_background": "light"
     },
     "output_type": "display_data"
    },
    {
     "data": {
      "image/png": "[encoded data removed]",
      "text/plain": [
       "<Figure size 432x432 with 1 Axes>"
      ]
     },
     "metadata": {
      "needs_background": "light"
     },
     "output_type": "display_data"
    }
   ],
   "source": [
    "from matplotlib import pyplot as plt\n",
    "%matplotlib inline\n",
    "\n",
    "numeric_features = [\"PassengerId\",\"Pclass\",\"Age\",\"SibSp\",\"Parch\", \"Fare\" ]\n",
    "for col in numeric_features:\n",
    "    train.boxplot(column=col, by=\"Survived\", figsize=(6,6))\n",
    "    plt.title(col)\n",
    "plt.show()"
   ]
  },
  {
   "cell_type": "markdown",
   "metadata": {},
   "source": [
    "For some of the features, there's a noticable difference in the distribution for each label value. In particular, **Fare**, **Pclass**, and **Age** show markedly different distributions for survived passengers than for non-survived passengers."
   ]
  },
  {
   "cell_type": "code",
   "execution_count": 6,
   "metadata": {},
   "outputs": [],
   "source": [
    "for df in [train,test]:\n",
    "    df['Sex_binary']=df['Sex'].map({'male':1,'female':0})"
   ]
  },
  {
   "cell_type": "markdown",
   "metadata": {},
   "source": [
    "Drop the columns we don't need for the model"
   ]
  },
  {
   "cell_type": "code",
   "execution_count": 7,
   "metadata": {},
   "outputs": [],
   "source": [
    "# dropping all the columns that we are not gonna used in this analysis\n",
    "for df in [train,test]:\n",
    "    df.drop(['Name','SibSp','Parch', 'Ticket', 'Fare', 'Cabin', 'Embarked', \"Sex\"],axis=1, inplace=True)"
   ]
  },
  {
   "cell_type": "markdown",
   "metadata": {},
   "source": [
    "Inspecting the data for null values and handling them"
   ]
  },
  {
   "cell_type": "code",
   "execution_count": 8,
   "metadata": {},
   "outputs": [
    {
     "name": "stdout",
     "output_type": "stream",
     "text": [
      "train:\n",
      "PassengerId      0\n",
      "Survived         0\n",
      "Pclass           0\n",
      "Age            177\n",
      "Sex_binary       0\n",
      "dtype: int64\n",
      "\n",
      "test:\n",
      "PassengerId     0\n",
      "Pclass          0\n",
      "Age            86\n",
      "Sex_binary      0\n",
      "dtype: int64\n"
     ]
    }
   ],
   "source": [
    "# inspecting the data for missing values\n",
    "print(\"train:\")\n",
    "print(train.isnull().sum())\n",
    "print(\"\\ntest:\")\n",
    "print(test.isnull().sum())"
   ]
  },
  {
   "cell_type": "markdown",
   "metadata": {},
   "source": [
    "Assuming that people that has a missing value as 'Age', was less than 1 year old, so we are just gonna impute these values as '0'."
   ]
  },
  {
   "cell_type": "code",
   "execution_count": 9,
   "metadata": {},
   "outputs": [
    {
     "name": "stdout",
     "output_type": "stream",
     "text": [
      "train_impute:\n",
      "PassengerId    0\n",
      "Survived       0\n",
      "Pclass         0\n",
      "Age            0\n",
      "Sex_binary     0\n",
      "dtype: int64\n",
      "\n",
      "train_drop:\n",
      "PassengerId    0\n",
      "Survived       0\n",
      "Pclass         0\n",
      "Age            0\n",
      "Sex_binary     0\n",
      "dtype: int64\n",
      "\n",
      "test_impute:\n",
      "PassengerId    0\n",
      "Pclass         0\n",
      "Age            0\n",
      "Sex_binary     0\n",
      "dtype: int64\n",
      "\n",
      "test_drop:\n",
      "PassengerId    0\n",
      "Pclass         0\n",
      "Age            0\n",
      "Sex_binary     0\n",
      "dtype: int64\n"
     ]
    }
   ],
   "source": [
    "# I should divide into two dataframes, one with the impute 0 and another one just dropping the values.\n",
    "# replace the missing values with 0\n",
    "train_impute = train\n",
    "test_impute = test\n",
    "\n",
    "train_impute.Age.fillna(0, inplace=True)\n",
    "test_impute.Age.fillna(0, inplace=True)\n",
    "# just deleting the missing values\n",
    "train_drop = train\n",
    "test_drop = test\n",
    "\n",
    "train_drop.Age.dropna()\n",
    "test_drop.Age.dropna()\n",
    "# check if the replacement was successfull\n",
    "print(\"train_impute:\")\n",
    "print(train_impute.isnull().sum())\n",
    "print(\"\\ntrain_drop:\")\n",
    "print(train_drop.isnull().sum())\n",
    "\n",
    "print(\"\\ntest_impute:\")\n",
    "print(test_impute.isnull().sum())\n",
    "print(\"\\ntest_drop:\")\n",
    "print(test_drop.isnull().sum())"
   ]
  },
  {
   "cell_type": "code",
   "execution_count": 10,
   "metadata": {},
   "outputs": [],
   "source": [
    "# Separating the label and the features on the train dataset\n",
    "#imputed dataset\n",
    "X_train_impute = train_impute.drop('Survived', axis=1)\n",
    "y_train_impute = train_impute.Survived\n",
    "\n",
    "#dropped dataset\n",
    "X_train_drop = train_drop.drop('Survived', axis=1)\n",
    "y_train_drop = train_drop.Survived\n"
   ]
  },
  {
   "cell_type": "markdown",
   "metadata": {},
   "source": [
    "Trying a few classification algorithms:\n",
    "* logistic regression\n",
    "* support vector machine\n",
    "* random forest classifier\n",
    "\n",
    "Logistic Regression:"
   ]
  },
  {
   "cell_type": "code",
   "execution_count": 11,
   "metadata": {},
   "outputs": [],
   "source": [
    "#Logistic regression\n",
    "from sklearn.linear_model import LogisticRegression\n",
    "model_lr = LogisticRegression(solver='liblinear', random_state=42)\n",
    "model_lr.fit(X_train_impute, y_train_impute)\n",
    "predictions = model_lr.predict(test_impute)"
   ]
  },
  {
   "cell_type": "code",
   "execution_count": 15,
   "metadata": {},
   "outputs": [],
   "source": [
    "def generate_submission_file(predictions, model_name=''):\n",
    "    #building the submission file\n",
    "    submission = pd.DataFrame({'PassengerId':test['PassengerId'],'Survived':predictions})\n",
    "    #Visualize the first 5 rows\n",
    "    submission.head()\n",
    "    #Convert DataFrame to a csv file that can be uploaded\n",
    "    #This is saved in the same directory as your notebook\n",
    "    filename = 'TitanicPredictions'+model_name.capitalize()+'.csv'\n",
    "    submission.to_csv(filename,index=False)\n",
    "    print('Saved file: ' + filename)"
   ]
  },
  {
   "cell_type": "code",
   "execution_count": 16,
   "metadata": {},
   "outputs": [
    {
     "name": "stdout",
     "output_type": "stream",
     "text": [
      "Saved file: TitanicPredictionsLogreg.csv\n"
     ]
    }
   ],
   "source": [
    "# calling the function to generate the submission file\n",
    "generate_submission_file(predictions, model_name='LogReg')"
   ]
  },
  {
   "cell_type": "markdown",
   "metadata": {},
   "source": [
    "Kaggle Score: 0.76315. According to Kaggle, my score represents my submission's accuracy. For example, a score of 0.7 in this competition indicates my model predicted Titanic survival correctly for 70% of people. In thisn case 76,31% of people."
   ]
  },
  {
   "cell_type": "code",
   "execution_count": 17,
   "metadata": {},
   "outputs": [
    {
     "name": "stdout",
     "output_type": "stream",
     "text": [
      "Saved file: TitanicPredictionsLogreg_drop.csv\n"
     ]
    }
   ],
   "source": [
    "#Logistic Regression on dropped data\n",
    "model_lr.fit(X_train_drop, y_train_drop)\n",
    "predictions = model_lr.predict(test_drop)\n",
    "generate_submission_file(predictions, model_name='LogReg_drop')"
   ]
  },
  {
   "cell_type": "markdown",
   "metadata": {},
   "source": [
    "Kaggle Score: 0.76315. We achieved the same accuracy score for both imputed and dropped models, which indicates that for this dataset it doesn't make a difference how we handle the missing values, this doen't not affect the performance of the model."
   ]
  },
  {
   "cell_type": "markdown",
   "metadata": {},
   "source": [
    "Support Vector Machine:"
   ]
  },
  {
   "cell_type": "code",
   "execution_count": 18,
   "metadata": {},
   "outputs": [
    {
     "name": "stdout",
     "output_type": "stream",
     "text": [
      "Saved file: TitanicPredictionsSvm.csv\n"
     ]
    }
   ],
   "source": [
    "from sklearn import svm\n",
    "model_svm = svm.SVC()\n",
    "model_svm.fit(X_train_impute,y_train_impute)\n",
    "predictions_svm = model_svm.predict(test_impute)\n",
    "generate_submission_file(predictions_svm, 'SVM')"
   ]
  },
  {
   "cell_type": "markdown",
   "metadata": {},
   "source": [
    "Kaggle Score: 0.62200. Support Vector Machine algorithm performed worst than the Logistic Regression used previously. However, I used only the default configuration for the model. Maybe if we tune the hyperparameters we could get a better result.\n",
    "\n",
    "\n",
    "Random Forest Classifier:\n"
   ]
  },
  {
   "cell_type": "code",
   "execution_count": 19,
   "metadata": {},
   "outputs": [
    {
     "name": "stdout",
     "output_type": "stream",
     "text": [
      "Saved file: TitanicPredictionsRfc.csv\n"
     ]
    }
   ],
   "source": [
    "from sklearn.ensemble import RandomForestClassifier\n",
    "model = RandomForestClassifier(random_state = 42)\n",
    "model.fit(X_train_impute, y_train_impute)\n",
    "predictions_rfc = model.predict(test_impute)\n",
    "generate_submission_file(predictions_rfc, 'rfc')"
   ]
  },
  {
   "cell_type": "markdown",
   "metadata": {},
   "source": [
    "Kaggle Score: 0.75837. Random Forest Classifier had a better performance than the SVM algorithm, but it is still behind the Logistic Regression algorithm. Again, I used the default configuration and maybe if I chage the right parameters, this could made this could improve the performance of this model."
   ]
  }
 ],
 "metadata": {
  "kernelspec": {
   "display_name": "Python 3",
   "language": "python",
   "name": "python3"
  },
  "language_info": {
   "codemirror_mode": {
    "name": "ipython",
    "version": 3
   },
   "file_extension": ".py",
   "mimetype": "text/x-python",
   "name": "python",
   "nbconvert_exporter": "python",
   "pygments_lexer": "ipython3",
   "version": "3.7.4"
  }
 },
 "nbformat": 4,
 "nbformat_minor": 2
}
